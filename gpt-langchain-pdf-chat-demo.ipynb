{
 "cells": [
  {
   "cell_type": "markdown",
   "id": "dd846391",
   "metadata": {},
   "source": [
    "## 1. 本地读取pdf和进行切分\n",
    "生成一段代码，实现以下功能：\n",
    "1. 使用langchain读取本地file_folder目录下的所有pdf文件\n",
    "2. 使用langchain将pdf文本切分成小段"
   ]
  },
  {
   "cell_type": "code",
   "execution_count": 26,
   "id": "e8c82387",
   "metadata": {},
   "outputs": [],
   "source": [
    "from IPython.display import clear_output\n",
    "clear_output(wait=True)"
   ]
  },
  {
   "cell_type": "code",
   "execution_count": 28,
   "id": "4e636a39",
   "metadata": {
    "scrolled": true
   },
   "outputs": [
    {
     "name": "stdout",
     "output_type": "stream",
     "text": [
      "3.11.3 (main, Apr  7 2023, 20:13:31) [Clang 14.0.0 (clang-1400.0.29.202)]\n",
      "/opt/homebrew/opt/python@3.11/bin/python3.11\n"
     ]
    }
   ],
   "source": [
    "# 包安装\n",
    "\n",
    "# !pip3 install langchain\n",
    "# !pip install pinecone-client\n",
    "\n",
    "# !pip install --upgrade langchain\n",
    "# !pip install tiktoken\n",
    "\n",
    "import os\n",
    "# print(\"PYTHONPATH:\", os.environ.get('PYTHONPATH'))\n",
    "# print(\"PATH:\", os.environ.get('PATH'))\n",
    "\n",
    "import sys\n",
    "print(sys.version)\n",
    "print(sys.executable)"
   ]
  },
  {
   "cell_type": "code",
   "execution_count": 30,
   "id": "fe989f04",
   "metadata": {},
   "outputs": [],
   "source": [
    "import sys\n",
    "sys.path.append('/opt/homebrew/lib/python3.11/site-packages')\n",
    "# print(sys.path)\n",
    "\n",
    "# %ls -lrt ./files/\n",
    "# %pwd"
   ]
  },
  {
   "cell_type": "code",
   "execution_count": 32,
   "id": "636866e6",
   "metadata": {},
   "outputs": [
    {
     "name": "stdout",
     "output_type": "stream",
     "text": [
      "<class 'langchain.schema.Document'>\n",
      "page_content='Is ChatGPT A Good Translator? Yes With GPT-4 As The Engine\\nWenxiang Jiao\\x03Wenxuan Wang Jen-tse Huang Xing Wang Zhaopeng Tu\\nTencent AI Lab\\nAbstract\\nThis report provides a preliminary evaluation\\nof ChatGPT for machine translation, includ-\\ning translation prompt, multilingual transla-\\ntion, and translation robustness. We adopt\\nthe prompts advised by ChatGPT to trigger\\nits translation ability and ﬁnd that the candi-\\ndate prompts generally work well and show\\nminor performance differences. By evalu-\\nating on a number of benchmark test sets1,\\nwe ﬁnd that ChatGPT performs competitively\\nwith commercial translation products (e.g.,\\nGoogle Translate) on high-resource European\\nlanguages but lags behind signiﬁcantly on low-\\nresource or distant languages. For distant\\nlanguages, we explore an interesting strategy\\nnamed pivot prompting that asks ChatGPT\\nto translate the source sentence into a high-\\nresource pivot language before into the target\\nlanguage, which improves the translation per-\\nformance signiﬁcantly. As for the translation\\nrobustness, ChatGPT does not perform as well\\nas the commercial systems on biomedical ab-\\nstracts or Reddit comments but exhibits good\\nresults on spoken language. With the launch\\nof the GPT-4 engine, the translation perfor-\\nmance of ChatGPT is signiﬁcantly boosted, be-\\ncoming comparable to commercial translation\\nproducts, even for distant languages. In other\\nwords, ChatGPT has already become a good\\ntranslator .\\n1 Introduction\\nChatGPT2is an intelligent chatting machine devel-\\noped by OpenAI upon the InstructGPT (Ouyang\\net al., 2022), which is trained to follow an instruc-\\ntion in a prompt and provide a detailed response.\\nAccording to the ofﬁcial statement, ChatGPT is\\nable to answer followup questions, admit its mis-\\ntakes, challenge incorrect premises, and reject in-\\nappropriate requests due to the dialogue format.\\n\\x03Correspondence: joelwxjiao@tencent.com\\n1Scripts and data: https://github.com/wxjiao/\\nIs-ChatGPT-A-Good-Translator\\n2https://chat.openai.com\\nFigure 1: Prompts advised by ChatGPT for machine\\ntranslation (Date: 2022.12.16).\\nIt integrates various abilities of natural language\\nprocessing, including question answering, story-\\ntelling, logic reasoning, code debugging, machine\\ntranslation, and so on. We are particularly inter-\\nested in how ChatGPT performs for machine trans-\\nlation tasks, especially the gap between ChatGPT\\nand commercial translation products (e.g., Google\\nTranslate, DeepL Translate).\\nIn this report, we provide a preliminary study of\\nChatGPT on machine translation to gain a better\\nunderstanding of it. Speciﬁcally, we focus on three\\naspects:\\n•Translation Prompt : ChatGPT is essentially a\\nlarge language model, which needs prompts as\\nguidance to trigger its translation ability. The\\nstyle of prompts may affect the quality of trans-\\nlation outputs. For example, how to mention\\nthe source or target language information mat-\\nters in multilingual machine translation models,\\nwhich is usually solved by attaching language\\ntokens (Johnson et al., 2017; Fan et al., 2021).\\n•Multilingual Translation : ChatGPT is a single\\nmodel handling various NLP tasks and covering\\ndifferent languages, which can be considered a\\nuniﬁed multilingual machine translation model.\\nThus, we are curious about how ChatGPT per-\\nforms on different language pairs consideringarXiv:2301.08745v3  [cs.CL]  19 Mar 2023' metadata={'source': 'files/Is ChatGPT A Good Translator? Yes With GPT-4 As The Engine.pdf', 'page': 0}\n",
      "8\n"
     ]
    }
   ],
   "source": [
    "from langchain.document_loaders import PyPDFDirectoryLoader\n",
    "\n",
    "# 使用PyPDFDirectoryLoader从本地xx目录读取全部的pdf文件\n",
    "file_folder='./files'\n",
    "loader = PyPDFDirectoryLoader(file_folder)\n",
    "# docs是一个list\n",
    "docs = loader.load()\n",
    "\n",
    "print(type(docs[0]))\n",
    "print(docs[0])\n",
    "print(len(docs))"
   ]
  },
  {
   "cell_type": "code",
   "execution_count": 33,
   "id": "f0ad8e0e",
   "metadata": {},
   "outputs": [
    {
     "data": {
      "text/plain": [
       "Document(page_content='Is ChatGPT A Good Translator? Yes With GPT-4 As The Engine\\nWenxiang Jiao\\x03Wenxuan Wang Jen-tse Huang Xing Wang Zhaopeng Tu\\nTencent AI Lab\\nAbstract\\nThis report provides a preliminary evaluation\\nof ChatGPT for machine translation, includ-\\ning translation prompt, multilingual transla-\\ntion, and translation robustness. We adopt\\nthe prompts advised by ChatGPT to trigger\\nits translation ability and ﬁnd that the candi-\\ndate prompts generally work well and show\\nminor performance differences. By evalu-\\nating on a number of benchmark test sets1,\\nwe ﬁnd that ChatGPT performs competitively\\nwith commercial translation products (e.g.,\\nGoogle Translate) on high-resource European\\nlanguages but lags behind signiﬁcantly on low-\\nresource or distant languages. For distant\\nlanguages, we explore an interesting strategy\\nnamed pivot prompting that asks ChatGPT\\nto translate the source sentence into a high-\\nresource pivot language before into the target\\nlanguage, which improves the translation per-', metadata={'source': 'files/Is ChatGPT A Good Translator? Yes With GPT-4 As The Engine.pdf', 'page': 0})"
      ]
     },
     "execution_count": 33,
     "metadata": {},
     "output_type": "execute_result"
    }
   ],
   "source": [
    "# 使用langchain将pdf文本切分成小文档\n",
    "\n",
    "from langchain.text_splitter import RecursiveCharacterTextSplitter\n",
    "text_splitter = RecursiveCharacterTextSplitter(\n",
    "    chunk_size = 1000,\n",
    "    chunk_overlap  = 100,\n",
    "    length_function = len,\n",
    ")\n",
    "docs = text_splitter.split_documents(docs)\n",
    "docs[0]"
   ]
  },
  {
   "cell_type": "markdown",
   "id": "60269828",
   "metadata": {},
   "source": [
    "## 2. 将信息向量化，并存入向量数据库\n",
    "1. 通过openai的embedding接口，将文档转化为向量\n",
    "2. 将转化后的向量存入Pinecone向量数据库"
   ]
  },
  {
   "cell_type": "code",
   "execution_count": 20,
   "id": "bf029a89",
   "metadata": {},
   "outputs": [],
   "source": [
    "# openai和pinecone的API配置\n",
    "import os\n",
    "import getpass\n",
    "\n",
    "# PINECONE_API_KEY = getpass.getpass('Pinecone API Key:')\n",
    "# PINECONE_ENV = getpass.getpass('Pinecone Environment:')\n",
    "# os.environ['OPENAI_API_KEY'] = getpass.getpass('OpenAI API Key:')\n",
    "\n",
    "PINECONE_API_KEY='xx'\n",
    "PINECONE_ENV='xx'\n",
    "os.environ['OPENAI_API_KEY']='xx'\n",
    "PINECONE_INDEX='xx'"
   ]
  },
  {
   "cell_type": "code",
   "execution_count": 34,
   "id": "e4a77944",
   "metadata": {
    "scrolled": false
   },
   "outputs": [],
   "source": [
    "# 通过openai的embedding接口将文档转化为向量，并存入pinecone\n",
    "from langchain.embeddings.openai import OpenAIEmbeddings\n",
    "from langchain.text_splitter import CharacterTextSplitter\n",
    "from langchain.vectorstores import Pinecone\n",
    "from langchain.document_loaders import TextLoader\n",
    "import pinecone \n",
    "\n",
    "embeddings = OpenAIEmbeddings()\n",
    "\n",
    "# initialize pinecone\n",
    "pinecone.init(\n",
    "    api_key=PINECONE_API_KEY,  # find at app.pinecone.io\n",
    "    environment=PINECONE_ENV  # next to api key in console\n",
    ")\n",
    "\n",
    "index_name = PINECONE_INDEX\n",
    "\n",
    "# 首次导入时运行：索引导入一次即可\n",
    "# docsearch = Pinecone.from_documents(docs, embeddings, index_name=index_name)"
   ]
  },
  {
   "cell_type": "markdown",
   "id": "3ac3bb11",
   "metadata": {},
   "source": [
    "## 3. 在向量数据库中搜索与query相似的内容，合并投喂给gpt进行回答\n",
    "\n",
    "1. 利用similarity_search函数搜索与query相似的内容\n",
    "2. 利用langchain中的load_qa_chain函数，将query和查询到的相似内容作为参数传入，即可得到基于知识库的回答"
   ]
  },
  {
   "cell_type": "code",
   "execution_count": 35,
   "id": "8166a55e",
   "metadata": {},
   "outputs": [
    {
     "name": "stdout",
     "output_type": "stream",
     "text": [
      "[Document(page_content='Is ChatGPT A Good Translator? Yes With GPT-4 As The Engine\\nWenxiang Jiao\\x03Wenxuan Wang Jen-tse Huang Xing Wang Zhaopeng Tu\\nTencent AI Lab\\nAbstract\\nThis report provides a preliminary evaluation\\nof ChatGPT for machine translation, includ-\\ning translation prompt, multilingual transla-\\ntion, and translation robustness. We adopt\\nthe prompts advised by ChatGPT to trigger\\nits translation ability and ﬁnd that the candi-\\ndate prompts generally work well and show\\nminor performance differences. By evalu-\\nating on a number of benchmark test sets1,\\nwe ﬁnd that ChatGPT performs competitively\\nwith commercial translation products (e.g.,\\nGoogle Translate) on high-resource European\\nlanguages but lags behind signiﬁcantly on low-\\nresource or distant languages. For distant\\nlanguages, we explore an interesting strategy\\nnamed pivot prompting that asks ChatGPT\\nto translate the source sentence into a high-\\nresource pivot language before into the target\\nlanguage, which improves the translation per-', metadata={'page': 0.0, 'source': 'files/Is ChatGPT A Good Translator? Yes With GPT-4 As The Engine.pdf'}), Document(page_content='resource pivot language before into the target\\nlanguage, which improves the translation per-\\nformance signiﬁcantly. As for the translation\\nrobustness, ChatGPT does not perform as well\\nas the commercial systems on biomedical ab-\\nstracts or Reddit comments but exhibits good\\nresults on spoken language. With the launch\\nof the GPT-4 engine, the translation perfor-\\nmance of ChatGPT is signiﬁcantly boosted, be-\\ncoming comparable to commercial translation\\nproducts, even for distant languages. In other\\nwords, ChatGPT has already become a good\\ntranslator .\\n1 Introduction\\nChatGPT2is an intelligent chatting machine devel-\\noped by OpenAI upon the InstructGPT (Ouyang\\net al., 2022), which is trained to follow an instruc-\\ntion in a prompt and provide a detailed response.\\nAccording to the ofﬁcial statement, ChatGPT is\\nable to answer followup questions, admit its mis-\\ntakes, challenge incorrect premises, and reject in-\\nappropriate requests due to the dialogue format.', metadata={'page': 0.0, 'source': 'files/Is ChatGPT A Good Translator? Yes With GPT-4 As The Engine.pdf'}), Document(page_content='out-of-distribution data. However, these may not\\nbe done in ChatGPT.\\nAn interesting ﬁnding is that ChatGPT outper-\\nforms Google Translate and DeepL Translate sig-\\nniﬁcantly on WMT20 Rob3 test set that contains\\na crowdsourced speech recognition corpus. It sug-\\ngests that ChatGPT, which is essentially an artiﬁ-\\ncial intelligent chatting machine, is capable of gen-\\nerating more natural spoken languages than these\\ncommercial translation systems. We provide some\\nexamples in Table 8.\\n3 Conclusion\\nWe present a preliminary study of ChatGPT for\\nmachine translation, including translation prompt,\\nmultilingual translation, and translation robustness.\\nBy evaluating on a number of benchmark test\\nsets, we ﬁnd that ChatGPT performs competitively\\nwith commercial translation products (e.g., Google\\nTranslate) on high-resource European languages\\nbut lags behind signiﬁcantly on low-resource or\\ndistant languages. For distant languages, we ex-', metadata={'page': 5.0, 'source': 'files/Is ChatGPT A Good Translator? Yes With GPT-4 As The Engine.pdf'})]\n"
     ]
    }
   ],
   "source": [
    "# 在向量数据库中，查询相似的文档\n",
    "# if you already have an index, you can load it like this\n",
    "docsearch = Pinecone.from_existing_index(index_name, embeddings)\n",
    "\n",
    "query = \"does chatgpt translates better than google translation?\"\n",
    "docs = docsearch.similarity_search(query, 3)\n",
    "print(docs)"
   ]
  },
  {
   "cell_type": "code",
   "execution_count": 36,
   "id": "f793bc54",
   "metadata": {},
   "outputs": [],
   "source": [
    "from langchain.llms import OpenAI\n",
    "# We now initialize the ConversationalRetrievalChain\n",
    "llm = OpenAI(openai_api_key=os.environ['OPENAI_API_KEY'], temperature=0)\n"
   ]
  },
  {
   "cell_type": "code",
   "execution_count": 37,
   "id": "ebb34dd0",
   "metadata": {},
   "outputs": [
    {
     "data": {
      "text/plain": [
       "' Yes, ChatGPT performs competitively with commercial translation products (e.g., Google Translate) on high-resource European languages but lags behind significantly on low-resource or distant languages.'"
      ]
     },
     "execution_count": 37,
     "metadata": {},
     "output_type": "execute_result"
    }
   ],
   "source": [
    "from langchain.chains.question_answering import load_qa_chain\n",
    "chain = load_qa_chain(llm, chain_type=\"stuff\")\n",
    "chain.run(input_documents=docs, question=query)"
   ]
  }
 ],
 "metadata": {
  "kernelspec": {
   "display_name": "Python 3.11.3 (myenv)",
   "language": "python",
   "name": "myenv"
  },
  "language_info": {
   "codemirror_mode": {
    "name": "ipython",
    "version": 3
   },
   "file_extension": ".py",
   "mimetype": "text/x-python",
   "name": "python",
   "nbconvert_exporter": "python",
   "pygments_lexer": "ipython3",
   "version": "3.11.3"
  }
 },
 "nbformat": 4,
 "nbformat_minor": 5
}
