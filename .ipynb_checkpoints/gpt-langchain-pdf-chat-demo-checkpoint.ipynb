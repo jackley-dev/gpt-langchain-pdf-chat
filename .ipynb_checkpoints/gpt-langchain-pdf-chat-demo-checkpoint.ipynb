{
 "cells": [
  {
   "cell_type": "markdown",
   "id": "dd846391",
   "metadata": {},
   "source": [
    "## 1. 本地读取pdf和进行切分\n",
    "生成一段代码，实现以下功能：\n",
    "1. 使用langchain读取本地file_folder目录下的所有pdf文件\n",
    "2. 使用langchain将pdf文本切分成小段"
   ]
  },
  {
   "cell_type": "code",
   "execution_count": 1,
   "id": "94a3a0e0",
   "metadata": {
    "scrolled": true
   },
   "outputs": [
    {
     "name": "stdout",
     "output_type": "stream",
     "text": [
      "PYTHONPATH: :/opt/homebrew/lib/python3.11/site-packages\n",
      "PATH: /Users/lifeng/anaconda3/bin:/Users/lifeng/anaconda3/condabin:/opt/homebrew/bin:/opt/homebrew/sbin:/Library/Frameworks/Python.framework/Versions/3.9/bin:/usr/local/bin:/System/Cryptexes/App/usr/bin:/usr/bin:/bin:/usr/sbin:/sbin:/Library/Apple/usr/bin:/var/run/com.apple.security.cryptexd/codex.system/bootstrap/usr/local/bin:/var/run/com.apple.security.cryptexd/codex.system/bootstrap/usr/bin:/var/run/com.apple.security.cryptexd/codex.system/bootstrap/usr/appleinternal/bin:/opt/homebrew/opt/fzf/bin\n",
      "3.11.3 (main, Apr  7 2023, 20:13:31) [Clang 14.0.0 (clang-1400.0.29.202)]\n",
      "/opt/homebrew/opt/python@3.11/bin/python3.11\n"
     ]
    }
   ],
   "source": [
    "# 包安装\n",
    "\n",
    "# !pip3 install langchain\n",
    "# !pip install pypdf\n",
    "# !pip install pinecone-client\n",
    "\n",
    "# !pip install --upgrade langchain\n",
    "# !pip install tiktoken\n",
    "\n",
    "import os\n",
    "print(\"PYTHONPATH:\", os.environ.get('PYTHONPATH'))\n",
    "print(\"PATH:\", os.environ.get('PATH'))\n",
    "\n",
    "import sys\n",
    "print(sys.version)\n",
    "print(sys.executable)\n"
   ]
  },
  {
   "cell_type": "code",
   "execution_count": 2,
   "id": "fe989f04",
   "metadata": {},
   "outputs": [
    {
     "name": "stdout",
     "output_type": "stream",
     "text": [
      "['/Users/lifeng/PycharmProjects/gpt-langchain-pdf-chat', '/Users/lifeng/PycharmProjects/gpt-langchain-pdf-chat', '', '/opt/homebrew/lib/python3.11/site-packages', '/opt/homebrew/Cellar/python@3.11/3.11.3/Frameworks/Python.framework/Versions/3.11/lib/python311.zip', '/opt/homebrew/Cellar/python@3.11/3.11.3/Frameworks/Python.framework/Versions/3.11/lib/python3.11', '/opt/homebrew/Cellar/python@3.11/3.11.3/Frameworks/Python.framework/Versions/3.11/lib/python3.11/lib-dynload', '/opt/homebrew/lib/python3.11/site-packages', '/opt/homebrew/lib/python3.11/site-packages']\n"
     ]
    }
   ],
   "source": [
    "import sys\n",
    "sys.path.append('/opt/homebrew/lib/python3.11/site-packages')\n",
    "print(sys.path)"
   ]
  },
  {
   "cell_type": "code",
   "execution_count": 3,
   "id": "d7754e12",
   "metadata": {},
   "outputs": [
    {
     "name": "stdout",
     "output_type": "stream",
     "text": [
      "total 856\r\n",
      "-rw-r--r--@ 1 lifeng  staff  436771 Jun  4 20:45 Is ChatGPT A Good Translator? Yes With GPT-4 As The Engine.pdf\r\n"
     ]
    },
    {
     "data": {
      "text/plain": [
       "'/Users/lifeng/PycharmProjects/gpt-langchain-pdf-chat'"
      ]
     },
     "execution_count": 3,
     "metadata": {},
     "output_type": "execute_result"
    }
   ],
   "source": [
    "%ls -lrt ./files/\n",
    "%pwd"
   ]
  },
  {
   "cell_type": "code",
   "execution_count": 18,
   "id": "636866e6",
   "metadata": {},
   "outputs": [
    {
     "name": "stdout",
     "output_type": "stream",
     "text": [
      "<class 'langchain.schema.Document'>\n",
      "page_content='Is ChatGPT A Good Translator? Yes With GPT-4 As The Engine\\nWenxiang Jiao\\x03Wenxuan Wang Jen-tse Huang Xing Wang Zhaopeng Tu\\nTencent AI Lab\\nAbstract\\nThis report provides a preliminary evaluation\\nof ChatGPT for machine translation, includ-\\ning translation prompt, multilingual transla-\\ntion, and translation robustness. We adopt\\nthe prompts advised by ChatGPT to trigger\\nits translation ability and ﬁnd that the candi-\\ndate prompts generally work well and show\\nminor performance differences. By evalu-\\nating on a number of benchmark test sets1,\\nwe ﬁnd that ChatGPT performs competitively\\nwith commercial translation products (e.g.,\\nGoogle Translate) on high-resource European\\nlanguages but lags behind signiﬁcantly on low-\\nresource or distant languages. For distant\\nlanguages, we explore an interesting strategy\\nnamed pivot prompting that asks ChatGPT\\nto translate the source sentence into a high-\\nresource pivot language before into the target\\nlanguage, which improves the translation per-\\nformance signiﬁcantly. As for the translation\\nrobustness, ChatGPT does not perform as well\\nas the commercial systems on biomedical ab-\\nstracts or Reddit comments but exhibits good\\nresults on spoken language. With the launch\\nof the GPT-4 engine, the translation perfor-\\nmance of ChatGPT is signiﬁcantly boosted, be-\\ncoming comparable to commercial translation\\nproducts, even for distant languages. In other\\nwords, ChatGPT has already become a good\\ntranslator .\\n1 Introduction\\nChatGPT2is an intelligent chatting machine devel-\\noped by OpenAI upon the InstructGPT (Ouyang\\net al., 2022), which is trained to follow an instruc-\\ntion in a prompt and provide a detailed response.\\nAccording to the ofﬁcial statement, ChatGPT is\\nable to answer followup questions, admit its mis-\\ntakes, challenge incorrect premises, and reject in-\\nappropriate requests due to the dialogue format.\\n\\x03Correspondence: joelwxjiao@tencent.com\\n1Scripts and data: https://github.com/wxjiao/\\nIs-ChatGPT-A-Good-Translator\\n2https://chat.openai.com\\nFigure 1: Prompts advised by ChatGPT for machine\\ntranslation (Date: 2022.12.16).\\nIt integrates various abilities of natural language\\nprocessing, including question answering, story-\\ntelling, logic reasoning, code debugging, machine\\ntranslation, and so on. We are particularly inter-\\nested in how ChatGPT performs for machine trans-\\nlation tasks, especially the gap between ChatGPT\\nand commercial translation products (e.g., Google\\nTranslate, DeepL Translate).\\nIn this report, we provide a preliminary study of\\nChatGPT on machine translation to gain a better\\nunderstanding of it. Speciﬁcally, we focus on three\\naspects:\\n•Translation Prompt : ChatGPT is essentially a\\nlarge language model, which needs prompts as\\nguidance to trigger its translation ability. The\\nstyle of prompts may affect the quality of trans-\\nlation outputs. For example, how to mention\\nthe source or target language information mat-\\nters in multilingual machine translation models,\\nwhich is usually solved by attaching language\\ntokens (Johnson et al., 2017; Fan et al., 2021).\\n•Multilingual Translation : ChatGPT is a single\\nmodel handling various NLP tasks and covering\\ndifferent languages, which can be considered a\\nuniﬁed multilingual machine translation model.\\nThus, we are curious about how ChatGPT per-\\nforms on different language pairs consideringarXiv:2301.08745v3  [cs.CL]  19 Mar 2023' metadata={'source': 'files/Is ChatGPT A Good Translator? Yes With GPT-4 As The Engine.pdf', 'page': 0}\n",
      "8\n"
     ]
    }
   ],
   "source": [
    "from langchain.document_loaders import PyPDFDirectoryLoader\n",
    "\n",
    "# 使用PyPDFDirectoryLoader从本地xx目录读取全部的pdf文件\n",
    "file_folder='./files'\n",
    "loader = PyPDFDirectoryLoader(file_folder)\n",
    "# docs是一个list\n",
    "docs = loader.load()\n",
    "\n",
    "print(type(docs[0]))\n",
    "print(docs[0])\n",
    "print(len(docs))"
   ]
  },
  {
   "cell_type": "code",
   "execution_count": 19,
   "id": "f0ad8e0e",
   "metadata": {},
   "outputs": [
    {
     "data": {
      "text/plain": [
       "[Document(page_content='Is ChatGPT A Good Translator? Yes With GPT-4 As The Engine\\nWenxiang Jiao\\x03Wenxuan Wang Jen-tse Huang Xing Wang Zhaopeng Tu\\nTencent AI Lab\\nAbstract\\nThis report provides a preliminary evaluation\\nof ChatGPT for machine translation, includ-\\ning translation prompt, multilingual transla-\\ntion, and translation robustness. We adopt\\nthe prompts advised by ChatGPT to trigger\\nits translation ability and ﬁnd that the candi-\\ndate prompts generally work well and show\\nminor performance differences. By evalu-\\nating on a number of benchmark test sets1,\\nwe ﬁnd that ChatGPT performs competitively\\nwith commercial translation products (e.g.,\\nGoogle Translate) on high-resource European\\nlanguages but lags behind signiﬁcantly on low-\\nresource or distant languages. For distant\\nlanguages, we explore an interesting strategy\\nnamed pivot prompting that asks ChatGPT\\nto translate the source sentence into a high-\\nresource pivot language before into the target\\nlanguage, which improves the translation per-', metadata={'source': 'files/Is ChatGPT A Good Translator? Yes With GPT-4 As The Engine.pdf', 'page': 0}),\n",
       " Document(page_content='resource pivot language before into the target\\nlanguage, which improves the translation per-\\nformance signiﬁcantly. As for the translation\\nrobustness, ChatGPT does not perform as well\\nas the commercial systems on biomedical ab-\\nstracts or Reddit comments but exhibits good\\nresults on spoken language. With the launch\\nof the GPT-4 engine, the translation perfor-\\nmance of ChatGPT is signiﬁcantly boosted, be-\\ncoming comparable to commercial translation\\nproducts, even for distant languages. In other\\nwords, ChatGPT has already become a good\\ntranslator .\\n1 Introduction\\nChatGPT2is an intelligent chatting machine devel-\\noped by OpenAI upon the InstructGPT (Ouyang\\net al., 2022), which is trained to follow an instruc-\\ntion in a prompt and provide a detailed response.\\nAccording to the ofﬁcial statement, ChatGPT is\\nable to answer followup questions, admit its mis-\\ntakes, challenge incorrect premises, and reject in-\\nappropriate requests due to the dialogue format.', metadata={'source': 'files/Is ChatGPT A Good Translator? Yes With GPT-4 As The Engine.pdf', 'page': 0}),\n",
       " Document(page_content='appropriate requests due to the dialogue format.\\n\\x03Correspondence: joelwxjiao@tencent.com\\n1Scripts and data: https://github.com/wxjiao/\\nIs-ChatGPT-A-Good-Translator\\n2https://chat.openai.com\\nFigure 1: Prompts advised by ChatGPT for machine\\ntranslation (Date: 2022.12.16).\\nIt integrates various abilities of natural language\\nprocessing, including question answering, story-\\ntelling, logic reasoning, code debugging, machine\\ntranslation, and so on. We are particularly inter-\\nested in how ChatGPT performs for machine trans-\\nlation tasks, especially the gap between ChatGPT\\nand commercial translation products (e.g., Google\\nTranslate, DeepL Translate).\\nIn this report, we provide a preliminary study of\\nChatGPT on machine translation to gain a better\\nunderstanding of it. Speciﬁcally, we focus on three\\naspects:\\n•Translation Prompt : ChatGPT is essentially a\\nlarge language model, which needs prompts as\\nguidance to trigger its translation ability. The\\nstyle of prompts may affect the quality of trans-', metadata={'source': 'files/Is ChatGPT A Good Translator? Yes With GPT-4 As The Engine.pdf', 'page': 0}),\n",
       " Document(page_content='guidance to trigger its translation ability. The\\nstyle of prompts may affect the quality of trans-\\nlation outputs. For example, how to mention\\nthe source or target language information mat-\\nters in multilingual machine translation models,\\nwhich is usually solved by attaching language\\ntokens (Johnson et al., 2017; Fan et al., 2021).\\n•Multilingual Translation : ChatGPT is a single\\nmodel handling various NLP tasks and covering\\ndifferent languages, which can be considered a\\nuniﬁed multilingual machine translation model.\\nThus, we are curious about how ChatGPT per-\\nforms on different language pairs consideringarXiv:2301.08745v3  [cs.CL]  19 Mar 2023', metadata={'source': 'files/Is ChatGPT A Good Translator? Yes With GPT-4 As The Engine.pdf', 'page': 0}),\n",
       " Document(page_content='Table 1: Information of adopted test sets.\\nTest Set Direction Domain Size\\nFlores-101 Any General 1012\\nWMT19 Bio De )En Biomedical 373\\nWMT20 Rob2En)JaReddit1376\\nJa)En 997\\nWMT20 Rob3 De )En Common V oice 5609\\nTable 2: Candidate translation prompts.\\nTranslation Prompt\\nTP1Translate these sentences from\\n[SRC] to [TGT]:\\nTP2Answer with no quotes. What do\\nthese sentences mean in [TGT]?\\nTP3Please provide the [TGT]\\ntranslation for these sentences:\\nboth the resource difference (e.g., high vs. low)\\nand language family (e.g., European vs. Asian).\\n•Translation Robustness : ChatGPT is devel-\\noped upon GPT3, which was trained on large-\\nscale datasets that cover various domains. There-\\nfore, we wonder if it can perform robustly well\\non domain-speciﬁc or even noisy sentences.\\nTo trigger the translation ability of ChatGPT,\\nwe ask ChatGPT itself for advice and obtain three\\ncandidate translation prompts. By evaluating on\\nthe Chinese )English translation task, we ﬁnd that', metadata={'source': 'files/Is ChatGPT A Good Translator? Yes With GPT-4 As The Engine.pdf', 'page': 1}),\n",
       " Document(page_content='candidate translation prompts. By evaluating on\\nthe Chinese )English translation task, we ﬁnd that\\nthe candidate prompts generally work well and\\nshow minor performance differences. Neverthe-\\nless, we adopt the best-performing prompt for the\\nrest parts of the study. By evaluating the transla-\\ntion among four selected languages on the Flores-\\n101 test sets, we ﬁnd that ChatGPT performs com-\\npetitively with commercial translation products\\n(e.g., Google Translate) on high-resource Euro-\\npean languages but lags behind signiﬁcantly on\\nlow-resource or distant languages. For distant lan-\\nguages, we explore an interesting strategy named\\npivot prompting that asks ChatGPT to translate the\\nsource sentence into a high-resource pivot language\\nbefore into the target language, which improves the\\ntranslation performance signiﬁcantly. As for the\\ntranslation robustness, results on three robustness\\nsets suggest that ChatGPT does not perform as well\\nas the commercial systems on biomedical abstracts', metadata={'source': 'files/Is ChatGPT A Good Translator? Yes With GPT-4 As The Engine.pdf', 'page': 1}),\n",
       " Document(page_content='as the commercial systems on biomedical abstracts\\nor Reddit comments but exhibits good results on\\nspoken language.Table 3: Comparison of different prompts for ChatGPT\\nto perform Chinese-to-English (Zh )En) translation.\\nSystem BLEU\"ChrF++\"TER#\\nGoogle 31.66 57.09 56.21\\nDeepL 31.22 56.74 57.84\\nTencent 29.69 56.24 57.16\\nChatGPT w/ T P1 23.25 53.07 66.03\\nChatGPT w/ T P2 24.54 53.05 63.79\\nChatGPT w/ T P324.73 53.71 62.84\\nWith the launch of GPT-4 (OpenAI, 2023)3on\\nMarch 15, 2023, we re-evaluate the translation abil-\\nity of ChatGPT and observe a signiﬁcant boost of\\nperformance, becoming comparable to commercial\\ntranslation products, even for distant languages. To\\nthis end, we can conclude that ChatGPT has al-\\nready become a good translator, with GPT-4 as\\nthe engine!\\n2 ChatGPT for Machine Translation\\n2.1 Evaluation Setting\\nWe provide a brief introduction of the evaluation\\nsetting, which mainly includes the compared base-\\nlines and test data.\\nBaselines. We compare ChatGPT with three', metadata={'source': 'files/Is ChatGPT A Good Translator? Yes With GPT-4 As The Engine.pdf', 'page': 1}),\n",
       " Document(page_content='lines and test data.\\nBaselines. We compare ChatGPT with three\\ncommercial translation products, namely, Google\\nTranslate4, DeepL Translate5, and Tencent TranS-\\nmart6. So far, the three commercial systems sup-\\nport translation in 133, 29, and 16 languages, re-\\nspectively. By default, the results in this report\\ncome from the ChatGPT version on 2022.12.16.\\nFor new results, we will mark the updated version\\ninformation correspondingly.\\nData. For multilingual translation, we evalu-\\nate the above translation systems on the Flores-\\n101 (Goyal et al., 2021)7test sets, which consists\\nof 1012 sentences translated into 101 languages.\\nTo test the translation robustness, we adopt the test\\nset of WMT19 Biomedical Translation Task (Baw-\\nden et al., 2019, i.e., Bio) and the set2 and set3 of\\nWMT20 Robustness Task (Specia et al., 2020, i.e.,\\nRob2 and Rob3). We obtain the ﬁrst two test sets\\nthrough SacreBLEU and the third pre-processed by\\n3https://openai.com/research/gpt-4\\n4https://translate.google.com', metadata={'source': 'files/Is ChatGPT A Good Translator? Yes With GPT-4 As The Engine.pdf', 'page': 1}),\n",
       " Document(page_content='3https://openai.com/research/gpt-4\\n4https://translate.google.com\\n5https://www.deepl.com/translator\\n6https://transmart.qq.com/zh-CN/index\\n7https://github.com/facebookresearch/\\nflores', metadata={'source': 'files/Is ChatGPT A Good Translator? Yes With GPT-4 As The Engine.pdf', 'page': 1}),\n",
       " Document(page_content='Table 4: Performance of ChatGPT for multilingual translation.\\nSystemDe-En Ro-En Zh-En\\n) ( ) ( ) (\\nGoogle 45.04 41.16 50.12 46.03 31.66 43.58\\nDeepL 49.23 (+9.3%) 41.46 (+0.7%) 50.61 (+0.9%) 48.39 (+5.1%) 31.22 (-1.3%) 44.31 (+1.6%)\\nTencent n/a n/a n/a n/a 29.69 (-6.2%) 46.06 (+5.6%)\\nChatGPT 43.71 (-2.9%) 38.87 (-5.5%) 44.95 (-10.3%) 24.85 (-46.0%) 24.73 (-21.8%) 38.27 (-12.1%)\\nSystemDe-Zh Ro-Zh De-Ro\\n) ( ) ( ) (\\nGoogle 38.71 21.68 39.05 25.59 33.31 32.27\\nDeepL 40.46 (+4.5%) 22.82 (+5.2%) 38.95 (-0.2%) 25.39 (-0.7%) 35.19 (+5.6%) 34.27 (+6.1%)\\nTencent 40.66 (+5.0%) 19.44 (-10.3%) n/a n/a n/a n/a\\nChatGPT 34.46 (-10.9%) 19.80 (-8.6%) 30.84 (-21.0%) 19.17 (-25.0%) 33.38 (+0.2%) 29.89 (-7.3%)\\nWang et al. (2021)8. Table 1 lists the information of\\nthese test sets. However, obtaining the translation\\nresults from ChatGPT is time-consuming since it\\ncan only be interacted with manually and can not\\nrespond to large batches. Thus, we randomly sam-\\nple 50 sentences from each set for evaluation.', metadata={'source': 'files/Is ChatGPT A Good Translator? Yes With GPT-4 As The Engine.pdf', 'page': 2}),\n",
       " Document(page_content='respond to large batches. Thus, we randomly sam-\\nple 50 sentences from each set for evaluation.\\nMetric. We adopt the mostly used BLEU\\nscore (Papineni et al., 2002) as our primary\\nmetric and also report ChrF++ (Popovi ´c, 2017)\\nand TER (Snover et al., 2006) in some cases.\\nThese three metrics are all supported by Sacre-\\nBLEU (Post, 2018)9.\\n2.2 Translation Prompts\\nTo design the prompts for triggering the machine\\ntranslation ability of ChatGPT, we seek inspiration\\nfrom ChatGPT by asking it for advice. Speciﬁcally,\\nwe ask ChatGPT with the following prompt:\\nProvide ten concise prompts\\nor templates that can make you\\ntranslate.\\nand obtain the results as shown in Figure 1. The\\ngenerated prompts look reasonable but share simi-\\nlar formats. Thus, we summarize them into three\\ncandidate prompts as shown in Table 2, where\\n[SRC] and[TGT] represent the source and target\\nlanguages of translation. Note that we add an extra\\ncommand into TP2to ask ChatGPT not to gen-', metadata={'source': 'files/Is ChatGPT A Good Translator? Yes With GPT-4 As The Engine.pdf', 'page': 2}),\n",
       " Document(page_content='languages of translation. Note that we add an extra\\ncommand into TP2to ask ChatGPT not to gen-\\nerate double quotes around the translation, which\\n8https://github.com/hsing-wang/\\nWMT2020_BioMedical/tree/master/\\nBio-18-19-testset\\n9https://github.com/mjpost/sacrebleuoften occurs with the original format. Nevertheless,\\nit is still unstable such that sentences in a batch\\n(in multiple lines) are translated into a single line\\noccasionally.\\nWe compare the three different candidate\\nprompts on the Chinese-to-English (Zh )En) trans-\\nlation task with the test set from Flores-101. Ta-\\nble 3 shows the results of ChatGPT and three com-\\nmercial systems. While ChatGPT provides rea-\\nsonably good translations, it still lags behind the\\nbaselines by at least 5.0 BLEU points. Concerning\\nthe three candidate prompts, TP3performs the best\\nin terms of all the three metrics. Thus, we use TP3\\nthroughout this report by default.\\n2.3 Multilingual Translation\\nWe select four languages to evaluate the capabil-', metadata={'source': 'files/Is ChatGPT A Good Translator? Yes With GPT-4 As The Engine.pdf', 'page': 2}),\n",
       " Document(page_content='2.3 Multilingual Translation\\nWe select four languages to evaluate the capabil-\\nity of ChatGPT in multilingual translation, includ-\\ning German (De), English (En), Romanian (Ro),\\nand Chinese (Zh), which are commonly adopted in\\nboth research (Wang et al., 2022a; Jiao et al., 2021,\\n2022b) and competitions (Bojar et al., 2016; Farhad\\net al., 2021). The ﬁrst three languages come from\\nthe same family with Latin scripts while the last\\nis from another family with Chinese scripts (Fan\\net al., 2021). We test the translation performance\\nbetween any two languages, which involves 12 di-\\nrections in total. For clarity and comparison, we\\nreport the BLEU scores and the improvement or\\ndrop of performance (i.e., +/-) relative to Google\\nTranslate. Table 4 presents the results.\\nResource Difference. We consider the resource\\ndifference of languages in the same family. In ma-', metadata={'source': 'files/Is ChatGPT A Good Translator? Yes With GPT-4 As The Engine.pdf', 'page': 2}),\n",
       " Document(page_content='Figure 2: Translation results by ChatGPT with pivot\\nprompting (Date: 2023.01.31).\\nchine translation, German ,English translation is\\nusually regarded as a high-resource task supported\\nby over ten million sentence pairs (Farhad et al.,\\n2021) while Romanian ,English translation is sup-\\nported by much less data (Bojar et al., 2016). This\\nresource difference can also be indicated by the\\ndata statistics10of GPT-3 (Brown et al., 2020), al-\\nthough we do not know the data information of\\nChatGPT. As shown in Table 4, ChatGPT per-\\nforms competitively with Google Translate and\\nDeepL Translate for both German )English and\\nEnglish)German translations. However, it lags\\nbehind them signiﬁcantly on Romanian )English\\nand English )Romanian. Speciﬁcally, ChatGPT\\nobtains a BLEU score on English )Romanian that\\nis 46.4% lower than Google Translate and the\\nvalue is 10.3% on Romanian )English. We spec-\\nulate that the huge resource difference of mono-\\nlingual data between English and Romanian lim-', metadata={'source': 'files/Is ChatGPT A Good Translator? Yes With GPT-4 As The Engine.pdf', 'page': 3}),\n",
       " Document(page_content='ulate that the huge resource difference of mono-\\nlingual data between English and Romanian lim-\\nits the language modeling capability of Roma-\\nnian, which partially explains the poor perfor-\\nmance on English )Romanian. On the contrary,\\nRomanian )English can beneﬁt from the strong\\nlanguage modeling capability of English such that\\nthe resource gap of parallel data can be somewhat\\ncompensated.\\nLanguage Family. We also take the impact of\\nlanguage families into account. In machine trans-\\nlation, translating between different language fam-\\nilies is often considered harder than that within\\nthe same language family, due to the differ-\\nent cultures and writing scripts. By compar-\\ning German ,English with Chinese ,English or\\nGerman ,Chinese translation, we ﬁnd that the gap\\n10https://github.com/openai/gpt-3/tree/\\nmaster/dataset_statisticsTable 5: Performance of ChatGPT with pivot prompt-\\ning. New results are obtained from the updated Chat-\\nGPT version on 2023.01.31. LR: length ratio.', metadata={'source': 'files/Is ChatGPT A Good Translator? Yes With GPT-4 As The Engine.pdf', 'page': 3}),\n",
       " Document(page_content='ing. New results are obtained from the updated Chat-\\nGPT version on 2023.01.31. LR: length ratio.\\nSystemDe)Zh Ro )Zh\\nBLEU LR BLEU LR\\nGoogle 38.71 0.94 39.05 0.95\\nDeepL 40.46 0.98 38.95 0.99\\nChatGPT (Direct) 34.46 0.97 30.84 0.91\\nChatGPT (Direct new) 30.76 0.92 27.51 0.93\\nChatGPT (Pivot new) 34.68 0.95 34.19 0.98\\nbetween ChatGPT and the commercial systems be-\\ncomes larger. We attribute to the better knowledge\\ntransfer within the same family (i.e., from English\\nto German) than between different families (e.g.,\\nfrom English to Chinese). For language pairs that\\nare both low-resource and from different families\\n(e.g., Romanian ,Chinese), the performance gap\\ncan be further enlarged (Wang et al., 2022b). Since\\nChatGPT handles different tasks in one model, low-\\nresource translation tasks not only compete with\\nhigh-resource translation tasks (Jiao et al., 2022a),\\nbut also with other NLP tasks for the model capac-\\nity, which explains their poor performance.', metadata={'source': 'files/Is ChatGPT A Good Translator? Yes With GPT-4 As The Engine.pdf', 'page': 3}),\n",
       " Document(page_content='but also with other NLP tasks for the model capac-\\nity, which explains their poor performance.\\nPivot Prompting. We explore an interesting\\nstrategy named Pivot Prompting to improve the\\ntranslation quality between distant languages.\\nSpeciﬁcally, we ask ChatGPT to translate the\\nsource sentence into a high-resource pivot language\\n(i.e., English by default) ﬁrst and then into the tar-\\nget language. We adjust the TP3prompt as below:\\nPlease provide the [PIV]\\ntranslation first and then the\\n[TGT] translation for these\\nsentences one by one:\\nwhere [PIV] denotes the pivot language. As a\\nlarge language model, ChatGPT will naturally con-\\ndition on both the prompt and the translation result\\nin the pivot language to generate the translation\\ninto the target language. Figure 2 shows an exam-\\nple when using pivot prompting. There are several\\nadvantages of pivot prompting:\\n•Knowledge Transfer : While parallel data be-\\ntween two distant languages is often scarce (Fan', metadata={'source': 'files/Is ChatGPT A Good Translator? Yes With GPT-4 As The Engine.pdf', 'page': 3}),\n",
       " Document(page_content='•Knowledge Transfer : While parallel data be-\\ntween two distant languages is often scarce (Fan\\net al., 2021; Wang et al., 2022b), the parallel data\\nbetween them and the pivot language can be rel-\\natively considerable, which is expected to learn\\nbetter translation ability for source-pivot and', metadata={'source': 'files/Is ChatGPT A Good Translator? Yes With GPT-4 As The Engine.pdf', 'page': 3}),\n",
       " Document(page_content='Table 6: Performance of GPT-4 (Date: 2023.03.15) for multilingual translation.\\nSystem Zh )En En )Zh De )Zh Ro )Zh\\nGoogle 31.66 43.58 38.71 39.05\\nDeepL 31.22 44.31 40.46 38.95\\nTencent 29.69 46.06 40.66 n/a\\nChatGPT (Direct) 24.73 38.27 34.46 30.84\\nChatGPT (Direct new) n/a n/a 30.76 27.51\\nChatGPT (Pivot new) n/a n/a 34.68 34.19\\nGPT-4 28.50 42.50 38.16 37.84\\npivot-target directions than that for the source-\\ntarget direction. Thus, pivot prompting will\\npotentially transfer the knowledge of the high-\\nresource pivot language to the low-resource tar-\\nget languages (Zoph et al., 2016; Aji et al., 2020;\\nLi et al., 2022; He et al., 2022).\\n•Convenience : Essentially, pivot prompting is\\nsimilar to the pivot translation technique in previ-\\nous studies (Cheng et al., 2016) but is more con-\\nvenient for ChatGPT. For the commonly adopted\\nmultilingual sequence-to-sequence translation\\nmodels (Fan et al., 2021), pivot translation re-\\nquires two steps: (1) Input the source sentence', metadata={'source': 'files/Is ChatGPT A Good Translator? Yes With GPT-4 As The Engine.pdf', 'page': 4}),\n",
       " Document(page_content='models (Fan et al., 2021), pivot translation re-\\nquires two steps: (1) Input the source sentence\\nand translate it into the pivot language; (2) Input\\nthe translation results in pivot language and trans-\\nlate it into the target language. In contrast, Chat-\\nGPT can identify both the [PIV] and[TGT]\\nlanguages and translate the source sentence into\\nthe two languages sequentially (see Figure 2),\\nwhich requires only one step operation.\\nTable 5 presents our results in BLUE score\\nand length ratio of translation results over refer-\\nences. We obtain the translation results by us-\\ningTP3(i.e., Direct) and pivot prompting (i.e.,\\nPivot) through English (i.e., source-to-English-to-\\ntarget), respectively. As seen, the latest update\\nfor ChatGPT seems to harm the translation qual-\\nity for German )Chinese and Romanian )Chinese\\ntranslations, compared with the previous version\\nwe used (i.e., Direct new vs. Direct). Nev-\\nertheless, pivot prompting can signiﬁcantly im-', metadata={'source': 'files/Is ChatGPT A Good Translator? Yes With GPT-4 As The Engine.pdf', 'page': 4}),\n",
       " Document(page_content='we used (i.e., Direct new vs. Direct). Nev-\\nertheless, pivot prompting can signiﬁcantly im-\\nprove the translation performance by nearly 3.9\\nand 6.6 BLEU points for German )Chinese\\nand Romanian )Chinese translations, respectively,\\nwhich demonstrates its effectiveness. By inspecting\\nthe translation results, we ﬁnd that direct transla-\\ntion with TP3will under-translate some tokens in\\nsource sentences, which can be noticeably ﬁxed bypivot prompting. This can be reﬂected by the length\\nratio results. Note that, while pivot prompting is\\nconvenient for ChatGPT, how to further accelerate\\nthe inference process is still an important research\\nquestion as we need to generate longer sentences.\\nGPT-4 further Bridges the Gap. With the\\nlaunch of GPT-4 (OpenAI, 2023) on March 15,\\n2023, we re-evaluate the performance of four trans-\\nlation directions. As shown in Table 6, GPT-4\\nboosts the performance over ChatGPT signiﬁcantly\\non all the four directions, bringing the BLEU scores', metadata={'source': 'files/Is ChatGPT A Good Translator? Yes With GPT-4 As The Engine.pdf', 'page': 4}),\n",
       " Document(page_content='on all the four directions, bringing the BLEU scores\\nto the level of top commercial translation systems.\\nNote that these results only come from zero-shot\\nsettings. With modern techniques like in-context\\nlearning with demonstrations (Brown et al., 2020;\\nAgrawal et al., 2022), the translation performance\\ncould be further improved. In other words, GPT-4\\nhas already become a good translator!\\n2.4 Translation Robustness\\nWe further evaluate the translation robustness of\\nChatGPT on the WMT19 Bio and WMT20 Rob2\\nand Rob3 test sets, which introduce the impact\\nof domain bias and potentially noisy data. For\\nexample, WMT19 Bio test set is composed of\\nMedline abstracts, which require domain-speciﬁc\\nknowledge to handle the terminologies. WMT20\\nRob2 are comments from the social media website\\nreddit.com that could contain various errors,\\nincluding spelling/typographical errors, word omis-\\nsion/insertion/repetition, grammatical errors, spo-\\nken languages, Internet slang, and so on (Michel', metadata={'source': 'files/Is ChatGPT A Good Translator? Yes With GPT-4 As The Engine.pdf', 'page': 4}),\n",
       " Document(page_content='ken languages, Internet slang, and so on (Michel\\nand Neubig, 2018).\\nTable 7 lists the BLEU scores. Obviously, Chat-\\nGPT does not perform as well as Google Translate\\nor DeepL Translate on the WMT19 Bio and WMT2\\nRob2 test sets. The reason may be that commer-\\ncial translation systems like Google Translate often\\nneed to continuously improve their ability to trans-', metadata={'source': 'files/Is ChatGPT A Good Translator? Yes With GPT-4 As The Engine.pdf', 'page': 4}),\n",
       " Document(page_content='Table 7: Performance of ChatGPT for translation robustness.\\nSystemWMT19 Bio WMT20 Rob2 WMT20 Rob3\\nDe)En En )Ja Ja)En De )En\\nGoogle 37.83 29.72 19.21 42.91\\nDeepL 37.13 26.25 19.83 41.29\\nChatGPT 33.22 22.36 18.34 44.59\\nTable 8: Examples from WMT20 Robust Set3.\\nExample\\nSRC Haben wir noch Nudeln?\\nREF Do we still have noodles?\\nGoogle Do we still have pasta?\\nDeepL Do we have any noodles left?\\nChatGPT Do we still have noodles?\\nSRC Tatsächlich ist der zu häuﬁge Gebrauch von\\nSeife schlecht für die Haut.\\nREF Actually, very frequent usage of soap is bad\\nfor the skin.\\nGoogle In fact, using soap too often is bad for your\\nskin.\\nDeepL In fact, using soap too often is bad for the skin.\\nChatGPT In fact, the frequent use of soap is bad for the\\nskin.\\nlate domain-speciﬁc (e.g. biomedical) or noisy\\nsentences, since they are real-world applications\\nthat require better generalization performance over\\nout-of-distribution data. However, these may not\\nbe done in ChatGPT.', metadata={'source': 'files/Is ChatGPT A Good Translator? Yes With GPT-4 As The Engine.pdf', 'page': 5}),\n",
       " Document(page_content='out-of-distribution data. However, these may not\\nbe done in ChatGPT.\\nAn interesting ﬁnding is that ChatGPT outper-\\nforms Google Translate and DeepL Translate sig-\\nniﬁcantly on WMT20 Rob3 test set that contains\\na crowdsourced speech recognition corpus. It sug-\\ngests that ChatGPT, which is essentially an artiﬁ-\\ncial intelligent chatting machine, is capable of gen-\\nerating more natural spoken languages than these\\ncommercial translation systems. We provide some\\nexamples in Table 8.\\n3 Conclusion\\nWe present a preliminary study of ChatGPT for\\nmachine translation, including translation prompt,\\nmultilingual translation, and translation robustness.\\nBy evaluating on a number of benchmark test\\nsets, we ﬁnd that ChatGPT performs competitively\\nwith commercial translation products (e.g., Google\\nTranslate) on high-resource European languages\\nbut lags behind signiﬁcantly on low-resource or\\ndistant languages. For distant languages, we ex-', metadata={'source': 'files/Is ChatGPT A Good Translator? Yes With GPT-4 As The Engine.pdf', 'page': 5}),\n",
       " Document(page_content='but lags behind signiﬁcantly on low-resource or\\ndistant languages. For distant languages, we ex-\\nplore an interesting strategy named pivot promptingthat asks ChatGPT to translate the source sentence\\ninto a high-resource pivot language before into the\\ntarget language, which improves the translation\\nperformance signiﬁcantly. As for the translation\\nrobustness, ChatGPT does not perform as well as\\nthe commercial systems on biomedical abstracts\\nor Reddit comments but exhibits good results on\\nspoken language. With the launch of the GPT-4\\nengine, the translation performance of ChatGPT\\nis signiﬁcantly boosted, becoming comparable to\\ncommercial translation products, even for distant\\nlanguages. In other words, ChatGPT has already\\nbecome a good translator.\\nLimitations\\nWe admit that this report is far from complete with\\nvarious aspects to make it more reliable:\\n•Coverage of Test Data : Currently, we randomly\\nselect 50 samples from each test set for evalua-', metadata={'source': 'files/Is ChatGPT A Good Translator? Yes With GPT-4 As The Engine.pdf', 'page': 5}),\n",
       " Document(page_content='•Coverage of Test Data : Currently, we randomly\\nselect 50 samples from each test set for evalua-\\ntion due to the response delay of ChatGPT. While\\nthere are some projects in GitHub trying to auto-\\nmate the access process, they are vulnerable to\\nbrowser refreshes or network issues. While Ope-\\nnAI has released the gpt-3.5-turbo API,\\nit shows to be less powerful than the Webpage\\nChatGPT version11. Therefore, we still report\\nthe current results.\\n•Reproducibility Issue : By querying ChatGPT\\nmultiple times, we found that the results of\\nthe same query may vary across multiple trials,\\nwhich brings randomness to the evaluation re-\\nsults. For more reliable results, it is best to re-\\npeat the translation multiple times for each test\\nset and report the average result.\\n•Evaluation Metrics : The results here are cal-\\nculated by automatic metrics with single refer-\\nences, which may not reﬂect some characteristics\\n11https://github.com/\\ninspired-cognition/critique-apps/tree/\\nmain/prompt-gym', metadata={'source': 'files/Is ChatGPT A Good Translator? Yes With GPT-4 As The Engine.pdf', 'page': 5}),\n",
       " Document(page_content='of translation properly, e.g., nativeness. Human\\nevaluation can provide more insights for compar-\\ning ChatGPT with commercial translators.\\n•Translation Abilities : We only focus on multi-\\nlingual translation and translation robustness in\\nthis report. However, there are some other trans-\\nlation abilities that can be further evaluated, e.g.,\\nconstrained machine translation and document-\\nlevel machine translation.\\nReferences\\nSweta Agrawal, Chunting Zhou, Mike Lewis, Luke\\nZettlemoyer, and Marjan Ghazvininejad. 2022. In-\\ncontext examples selection for machine translation.\\narXiv .\\nAlham Fikri Aji, Nikolay Bogoychev, Kenneth\\nHeaﬁeld, and Rico Sennrich. 2020. In neural ma-\\nchine translation, what does transfer learning trans-\\nfer? In ACL.\\nRachel Bawden, Kevin Bretonnel Cohen, Cristian\\nGrozea, Antonio Jimeno Yepes, Madeleine Kittner,\\nMartin Krallinger, Nancy Mah, Aurelie Neveol, Mar-\\niana Neves, Felipe Soares, et al. 2019. Findings of\\nthe WMT 2019 biomedical translation shared task:', metadata={'source': 'files/Is ChatGPT A Good Translator? Yes With GPT-4 As The Engine.pdf', 'page': 6}),\n",
       " Document(page_content='the WMT 2019 biomedical translation shared task:\\nEvaluation for medline abstracts and biomedical ter-\\nminologies. In WMT .\\nOndˇrej Bojar, Rajen Chatterjee, Christian Federmann,\\nYvette Graham, Barry Haddow, Matthias Huck, An-\\ntonio Jimeno Yepes, Philipp Koehn, Varvara Lo-\\ngacheva, Christof Monz, et al. 2016. Findings of the\\n2016 conference on machine translation. In WMT .\\nTom Brown, Benjamin Mann, Nick Ryder, Melanie\\nSubbiah, Jared D Kaplan, Prafulla Dhariwal, Arvind\\nNeelakantan, Pranav Shyam, Girish Sastry, Amanda\\nAskell, et al. 2020. Language models are few-shot\\nlearners. NeurIPS .\\nYong Cheng, Yang Liu, Qian Yang, Maosong Sun, and\\nWei Xu. 2016. Neural machine translation with\\npivot languages. arXiv .\\nAngela Fan, Shruti Bhosale, Holger Schwenk, Zhiyi\\nMa, Ahmed El-Kishky, Siddharth Goyal, Mandeep\\nBaines, Onur Celebi, Guillaume Wenzek, Vishrav\\nChaudhary, et al. 2021. Beyond english-centric mul-\\ntilingual machine translation. JMLR , 22(107):1–48.', metadata={'source': 'files/Is ChatGPT A Good Translator? Yes With GPT-4 As The Engine.pdf', 'page': 6}),\n",
       " Document(page_content='tilingual machine translation. JMLR , 22(107):1–48.\\nAkhbardeh Farhad, Arkhangorodsky Arkady, Biesial-\\nska Magdalena, Bojar Ond ˇrej, Chatterjee Rajen,\\nChaudhary Vishrav, Marta R Costa-jussa, España-\\nBonet Cristina, Fan Angela, Federmann Christian,\\net al. 2021. Findings of the 2021 conference on ma-\\nchine translation (WMT21). In WMT .Naman Goyal, Cynthia Gao, Vishrav Chaudhary, Peng-\\nJen Chen, Guillaume Wenzek, Da Ju, Sanjana Kr-\\nishnan, Marc’Aurelio Ranzato, Francisco Guzman,\\nand Angela Fan. 2021. The ﬂores-101 evaluation\\nbenchmark for low-resource and multilingual ma-\\nchine translation. arXiv .\\nZhiwei He, Xing Wang, Zhaopeng Tu, Shuming Shi,\\nand Rui Wang. 2022. Tencent AI Lab-Shanghai Jiao\\nTong University low-resource translation system for\\nthe WMT22 translation task. In WMT .\\nWenxiang Jiao, Zhaopeng Tu, Jiarui Li, Wenxuan\\nWang, Jen-tse Huang, and Shuming Shi. 2022a. Ten-\\ncent’s multilingual machine translation system for\\nWMT22 large-scale african languages. In WMT .', metadata={'source': 'files/Is ChatGPT A Good Translator? Yes With GPT-4 As The Engine.pdf', 'page': 6}),\n",
       " Document(page_content='cent’s multilingual machine translation system for\\nWMT22 large-scale african languages. In WMT .\\nWenxiang Jiao, Xing Wang, Shilin He, Zhaopeng Tu,\\nIrwin King, and Michael R Lyu. 2022b. Exploit-\\ning inactive examples for natural language genera-\\ntion with data rejuvenation. IEEE/ACM TASLP .\\nWenxiang Jiao, Xing Wang, Zhaopeng Tu, Shuming\\nShi, Michael Lyu, and Irwin King. 2021. Self-\\ntraining sampling with monolingual data uncertainty\\nfor neural machine translation. In ACL.\\nMelvin Johnson, Mike Schuster, Quoc V . Le, Maxim\\nKrikun, Yonghui Wu, Zhifeng Chen, Nikhil Tho-\\nrat, Fernanda B. Viégas, Martin Wattenberg, Greg\\nCorrado, Macduff Hughes, and Jeffrey Dean. 2017.\\nGoogle’s multilingual neural machine translation\\nsystem: Enabling zero-shot translation. TACL .\\nZhaocong Li, Xuebo Liu, Derek F Wong, Lidia S Chao,\\nand Min Zhang. 2022. ConsistTL: Modeling con-\\nsistency in transfer learning for low-resource neural\\nmachine translation. In EMNLP .\\nPaul Michel and Graham Neubig. 2018. MTNT: A', metadata={'source': 'files/Is ChatGPT A Good Translator? Yes With GPT-4 As The Engine.pdf', 'page': 6}),\n",
       " Document(page_content='machine translation. In EMNLP .\\nPaul Michel and Graham Neubig. 2018. MTNT: A\\ntestbed for machine translation of noisy text. In\\nEMNLP .\\nOpenAI. 2023. GPT-4 technical report. arXiv .\\nLong Ouyang, Jeff Wu, Xu Jiang, Diogo Almeida, Car-\\nroll L Wainwright, Pamela Mishkin, Chong Zhang,\\nSandhini Agarwal, Katarina Slama, Alex Ray, et al.\\n2022. Training language models to follow instruc-\\ntions with human feedback. arXiv .\\nKishore Papineni, Salim Roukos, Todd Ward, and Wei-\\nJing Zhu. 2002. BLEU: A method for automatic\\nevaluation of machine translation. In ACL.\\nMaja Popovi ´c. 2017. ChrF++: Words helping charac-\\nter n-grams. In WMT .\\nMatt Post. 2018. A call for clarity in reporting bleu\\nscores. In WMT .\\nMatthew Snover, Bonnie Dorr, Richard Schwartz, Lin-\\nnea Micciulla, and John Makhoul. 2006. A study of\\ntranslation edit rate with targeted human annotation.\\nInAMTA .', metadata={'source': 'files/Is ChatGPT A Good Translator? Yes With GPT-4 As The Engine.pdf', 'page': 6}),\n",
       " Document(page_content='Lucia Specia, Zhenhao Li, Juan Pino, Vishrav Chaud-\\nhary, Francisco Guzmán, Graham Neubig, Nadir\\nDurrani, Yonatan Belinkov, Philipp Koehn, Hassan\\nSajjad, et al. 2020. Findings of the WMT 2020\\nshared task on machine translation robustness. In\\nWMT .\\nWenxuan Wang, Wenxiang Jiao, Yongchang Hao, Xing\\nWang, Shuming Shi, Zhaopeng Tu, and Michael Lyu.\\n2022a. Understanding and improving sequence-to-\\nsequence pretraining for neural machine translation.\\nInACL.\\nWenxuan Wang, Wenxiang Jiao, Shuo Wang,\\nZhaopeng Tu, and Michael R Lyu. 2022b. Un-\\nderstanding and mitigating the uncertainty in\\nzero-shot translation. arXiv .\\nXing Wang, Zhaopeng Tu, and Shuming Shi. 2021.\\nTencent ai lab machine translation systems for the\\nWMT21 biomedical translation task. In WMT .\\nBarret Zoph, Deniz Yuret, Jonathan May, and Kevin\\nKnight. 2016. Transfer learning for low-resource\\nneural machine translation. In EMNLP .', metadata={'source': 'files/Is ChatGPT A Good Translator? Yes With GPT-4 As The Engine.pdf', 'page': 7})]"
      ]
     },
     "execution_count": 19,
     "metadata": {},
     "output_type": "execute_result"
    }
   ],
   "source": [
    "# 使用langchain将pdf文本切分成小文档\n",
    "\n",
    "from langchain.text_splitter import RecursiveCharacterTextSplitter\n",
    "text_splitter = RecursiveCharacterTextSplitter(\n",
    "    chunk_size = 1000,\n",
    "    chunk_overlap  = 100,\n",
    "    length_function = len,\n",
    ")\n",
    "docs = text_splitter.split_documents(docs)\n",
    "# docs"
   ]
  },
  {
   "cell_type": "markdown",
   "id": "60269828",
   "metadata": {},
   "source": [
    "## 2. 将信息向量化，并存入向量数据库\n",
    "1. 通过openai的embedding接口，将文档转化为向量\n",
    "2. 将转化后的向量存入Pinecone向量数据库"
   ]
  },
  {
   "cell_type": "code",
   "execution_count": 20,
   "id": "bf029a89",
   "metadata": {},
   "outputs": [],
   "source": [
    "# openai和pinecone的API配置\n",
    "import os\n",
    "import getpass\n",
    "\n",
    "# PINECONE_API_KEY = getpass.getpass('Pinecone API Key:')\n",
    "# PINECONE_ENV = getpass.getpass('Pinecone Environment:')\n",
    "# os.environ['OPENAI_API_KEY'] = getpass.getpass('OpenAI API Key:')\n",
    "\n",
    "PINECONE_API_KEY='xx'\n",
    "PINECONE_ENV='xx'\n",
    "os.environ['OPENAI_API_KEY']='xx'\n",
    "PINECONE_INDEX='xx'"
   ]
  },
  {
   "cell_type": "code",
   "execution_count": 21,
   "id": "e4a77944",
   "metadata": {
    "scrolled": false
   },
   "outputs": [],
   "source": [
    "# 通过openai的embedding接口将文档转化为向量，并存入pinecone\n",
    "from langchain.embeddings.openai import OpenAIEmbeddings\n",
    "from langchain.text_splitter import CharacterTextSplitter\n",
    "from langchain.vectorstores import Pinecone\n",
    "from langchain.document_loaders import TextLoader\n",
    "import pinecone \n",
    "\n",
    "embeddings = OpenAIEmbeddings()\n",
    "\n",
    "# initialize pinecone\n",
    "pinecone.init(\n",
    "    api_key=PINECONE_API_KEY,  # find at app.pinecone.io\n",
    "    environment=PINECONE_ENV  # next to api key in console\n",
    ")\n",
    "\n",
    "index_name = PINECONE_INDEX\n",
    "\n",
    "# 首次导入时运行：索引导入一次即可\n",
    "# docsearch = Pinecone.from_documents(docs, embeddings, index_name=index_name)"
   ]
  },
  {
   "cell_type": "markdown",
   "id": "3ac3bb11",
   "metadata": {},
   "source": [
    "## 3. 在向量数据库中搜索与query相似的内容，合并投喂给gpt进行回答\n",
    "\n",
    "1. 利用similarity_search函数搜索与query相似的内容\n",
    "2. 利用langchain中的load_qa_chain函数，将query和查询到的相似内容作为参数传入，即可得到基于知识库的回答"
   ]
  },
  {
   "cell_type": "code",
   "execution_count": 22,
   "id": "8166a55e",
   "metadata": {},
   "outputs": [
    {
     "name": "stdout",
     "output_type": "stream",
     "text": [
      "[Document(page_content='Is ChatGPT A Good Translator? Yes With GPT-4 As The Engine\\nWenxiang Jiao\\x03Wenxuan Wang Jen-tse Huang Xing Wang Zhaopeng Tu\\nTencent AI Lab\\nAbstract\\nThis report provides a preliminary evaluation\\nof ChatGPT for machine translation, includ-\\ning translation prompt, multilingual transla-\\ntion, and translation robustness. We adopt\\nthe prompts advised by ChatGPT to trigger\\nits translation ability and ﬁnd that the candi-\\ndate prompts generally work well and show\\nminor performance differences. By evalu-\\nating on a number of benchmark test sets1,\\nwe ﬁnd that ChatGPT performs competitively\\nwith commercial translation products (e.g.,\\nGoogle Translate) on high-resource European\\nlanguages but lags behind signiﬁcantly on low-\\nresource or distant languages. For distant\\nlanguages, we explore an interesting strategy\\nnamed pivot prompting that asks ChatGPT\\nto translate the source sentence into a high-\\nresource pivot language before into the target\\nlanguage, which improves the translation per-', metadata={'page': 0.0, 'source': 'files/Is ChatGPT A Good Translator? Yes With GPT-4 As The Engine.pdf'}), Document(page_content='resource pivot language before into the target\\nlanguage, which improves the translation per-\\nformance signiﬁcantly. As for the translation\\nrobustness, ChatGPT does not perform as well\\nas the commercial systems on biomedical ab-\\nstracts or Reddit comments but exhibits good\\nresults on spoken language. With the launch\\nof the GPT-4 engine, the translation perfor-\\nmance of ChatGPT is signiﬁcantly boosted, be-\\ncoming comparable to commercial translation\\nproducts, even for distant languages. In other\\nwords, ChatGPT has already become a good\\ntranslator .\\n1 Introduction\\nChatGPT2is an intelligent chatting machine devel-\\noped by OpenAI upon the InstructGPT (Ouyang\\net al., 2022), which is trained to follow an instruc-\\ntion in a prompt and provide a detailed response.\\nAccording to the ofﬁcial statement, ChatGPT is\\nable to answer followup questions, admit its mis-\\ntakes, challenge incorrect premises, and reject in-\\nappropriate requests due to the dialogue format.', metadata={'page': 0.0, 'source': 'files/Is ChatGPT A Good Translator? Yes With GPT-4 As The Engine.pdf'}), Document(page_content='out-of-distribution data. However, these may not\\nbe done in ChatGPT.\\nAn interesting ﬁnding is that ChatGPT outper-\\nforms Google Translate and DeepL Translate sig-\\nniﬁcantly on WMT20 Rob3 test set that contains\\na crowdsourced speech recognition corpus. It sug-\\ngests that ChatGPT, which is essentially an artiﬁ-\\ncial intelligent chatting machine, is capable of gen-\\nerating more natural spoken languages than these\\ncommercial translation systems. We provide some\\nexamples in Table 8.\\n3 Conclusion\\nWe present a preliminary study of ChatGPT for\\nmachine translation, including translation prompt,\\nmultilingual translation, and translation robustness.\\nBy evaluating on a number of benchmark test\\nsets, we ﬁnd that ChatGPT performs competitively\\nwith commercial translation products (e.g., Google\\nTranslate) on high-resource European languages\\nbut lags behind signiﬁcantly on low-resource or\\ndistant languages. For distant languages, we ex-', metadata={'page': 5.0, 'source': 'files/Is ChatGPT A Good Translator? Yes With GPT-4 As The Engine.pdf'})]\n"
     ]
    }
   ],
   "source": [
    "# 在向量数据库中，查询相似的文档\n",
    "# if you already have an index, you can load it like this\n",
    "docsearch = Pinecone.from_existing_index(index_name, embeddings)\n",
    "\n",
    "query = \"does chatgpt translates better than google translation?\"\n",
    "docs = docsearch.similarity_search(query, 3)\n",
    "print(docs)"
   ]
  },
  {
   "cell_type": "code",
   "execution_count": 23,
   "id": "f793bc54",
   "metadata": {},
   "outputs": [],
   "source": [
    "from langchain.llms import OpenAI\n",
    "# We now initialize the ConversationalRetrievalChain\n",
    "llm = OpenAI(openai_api_key=os.environ['OPENAI_API_KEY'], temperature=0)\n"
   ]
  },
  {
   "cell_type": "code",
   "execution_count": 24,
   "id": "ebb34dd0",
   "metadata": {},
   "outputs": [
    {
     "data": {
      "text/plain": [
       "' Yes, ChatGPT performs competitively with commercial translation products (e.g., Google Translate) on high-resource European languages but lags behind significantly on low-resource or distant languages.'"
      ]
     },
     "execution_count": 24,
     "metadata": {},
     "output_type": "execute_result"
    }
   ],
   "source": [
    "from langchain.chains.question_answering import load_qa_chain\n",
    "chain = load_qa_chain(llm, chain_type=\"stuff\")\n",
    "chain.run(input_documents=docs, question=query)"
   ]
  }
 ],
 "metadata": {
  "kernelspec": {
   "display_name": "Python 3.11.3 (myenv)",
   "language": "python",
   "name": "myenv"
  },
  "language_info": {
   "codemirror_mode": {
    "name": "ipython",
    "version": 3
   },
   "file_extension": ".py",
   "mimetype": "text/x-python",
   "name": "python",
   "nbconvert_exporter": "python",
   "pygments_lexer": "ipython3",
   "version": "3.11.3"
  }
 },
 "nbformat": 4,
 "nbformat_minor": 5
}
